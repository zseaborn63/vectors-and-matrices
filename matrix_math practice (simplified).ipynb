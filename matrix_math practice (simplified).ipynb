{
 "cells": [
  {
   "cell_type": "code",
   "execution_count": 1,
   "metadata": {
    "collapsed": false
   },
   "outputs": [
    {
     "name": "stdout",
     "output_type": "stream",
     "text": [
      "This is invalid.  Shapes are not compatible\n"
     ]
    }
   ],
   "source": [
    "from functools import reduce\n",
    "\n",
    "class ShapeException(Exception):\n",
    "    print(\"This is invalid.  Shapes are not compatible\")\n",
    "    #exit()\n",
    "    pass\n",
    "\n",
    "\n",
    "def dot(vec1, vec2):\n",
    "    if shape(vec1) != shape(vec2):\n",
    "        raise ShapeException()\n",
    "    vec_for_addition = []\n",
    "    vec_len = range(len(vec1))\n",
    "    for x in vec_len:\n",
    "        pos_multiplication = vec1[x] * vec2[x]\n",
    "        vec_for_addition.append(pos_multiplication)\n",
    "    dot_total = reduce(lambda x, y: x + y, vec_for_addition)\n",
    "    return dot_total\n",
    "    pass\n",
    "\n",
    "\n",
    "def magnitude(vec):\n",
    "    mag = 0\n",
    "    for x in range(len(vec)):\n",
    "        mag += vec[x] ** 2\n",
    "        mag = mag ** 0.5\n",
    "    return mag\n",
    "    pass\n",
    "\n",
    "\n",
    "def shape(num1):\n",
    "    for row in num1:\n",
    "        num_rows = len(num1)\n",
    "        if type == list:\n",
    "            num_col = len(row)\n",
    "            return num_rows, num_col\n",
    "        else:\n",
    "            return num_rows,\n",
    "    pass\n",
    "\n",
    "\n",
    "def vector_add(vec1, vec2):\n",
    "    if shape(vec1) != shape(vec2):\n",
    "        raise ShapeException\n",
    "    else:\n",
    "        output_vector = []\n",
    "        for i in range(len(vec1)):\n",
    "            output_num = vec1[i] + vec2[i]\n",
    "            output_vector.append(output_num)\n",
    "        return output_vector\n",
    "    pass\n",
    "\n",
    "\n",
    "def vector_sub():\n",
    "    if shape(vec1) != shape(vec2):\n",
    "        raise ShapeException\n",
    "    else:\n",
    "        output_vector = []\n",
    "        for i in range(len(vec1)):\n",
    "            output_num = vec1[i] - vec2[i]\n",
    "            output_vector.append(output_num)\n",
    "        return output_vector\n",
    "    pass\n",
    "\n",
    "\n",
    "def vector_sum(*args):\n",
    "    vecs_total = []\n",
    "    vec_len = len(args[0])\n",
    "    for x in range(0, vec_len):\n",
    "        replacement_num = 0\n",
    "        for vec in args:\n",
    "            replacement_num += vec[x]\n",
    "        vecs_total.append(replacement_num)\n",
    "    return vecs_total\n",
    "    pass\n",
    "\n",
    "\n",
    "def vector_multiply(vec, scalar):\n",
    "    output_vector = []\n",
    "    for i in range(len(vec)):\n",
    "        output_num = vec[i] * scalar\n",
    "        output_vector.append(output_num)\n",
    "    return output_vector\n",
    "    pass\n",
    "\n",
    "\n",
    "def vector_mean(*args):\n",
    "    vec_len = len(args)\n",
    "    vecs_added = vector_sum(*args)\n",
    "    scalar = 1 / vec_len\n",
    "    vec_avg = vector_multiply(vecs_added, scalar)\n",
    "    return vec_avg\n",
    "    pass\n",
    "\n",
    "\n",
    "def matrix_row(matrix, idx):\n",
    "    row = matrix[idx]\n",
    "    return row\n",
    "    pass\n",
    "\n",
    "\n",
    "def matrix_col(matrix, idx):\n",
    "    col = [row[idx] for row in matrix]\n",
    "    return col\n",
    "    pass\n",
    "\n",
    "\n",
    "def matrix_scalar_multiply(matrix, scalar):\n",
    "    output_matrix = []\n",
    "    for row in matrix:\n",
    "        output_row = []\n",
    "        for column in row:\n",
    "            calculated_value = column * scalar\n",
    "            output_row.append(calculated_value)\n",
    "        output_matrix.append(output_row)\n",
    "    return output_matrix\n",
    "    pass\n"
   ]
  },
  {
   "cell_type": "code",
   "execution_count": 2,
   "metadata": {
    "collapsed": true
   },
   "outputs": [],
   "source": [
    "m = [3, 4]\n",
    "n = [5, 0]\n",
    "\n",
    "v = [1, 3, 0]\n",
    "w = [0, 2, 4]\n",
    "u = [1, 1, 1]\n",
    "y = [10, 20, 30]\n",
    "z = [0, 0, 0]"
   ]
  },
  {
   "cell_type": "code",
   "execution_count": 12,
   "metadata": {
    "collapsed": true
   },
   "outputs": [],
   "source": [
    "A = [[1, 0, 0],\n",
    "     [0, 1, 0],\n",
    "     [0, 0, 1]]\n",
    "B = [[1, 2, 3],\n",
    "     [4, 5, 6],\n",
    "     [7, 8, 9]]\n",
    "C = [[1, 2],\n",
    "     [2, 1],\n",
    "     [1, 2]]\n",
    "D = [[1, 2, 3],\n",
    "     [3, 2, 1]]"
   ]
  },
  {
   "cell_type": "code",
   "execution_count": 11,
   "metadata": {
    "collapsed": true
   },
   "outputs": [],
   "source": [
    "def matrix_vector_multiply(matrix, vector):\n",
    "    final_vec = []\n",
    "    for row in matrix:\n",
    "        placeholder = 0\n",
    "        for x in range(len(vector)):\n",
    "            placeholder += row[x] * vector[x]\n",
    "        final_vec.append(placeholder)\n",
    "    return final_vec\n",
    "\n",
    "            "
   ]
  },
  {
   "cell_type": "code",
   "execution_count": 5,
   "metadata": {
    "collapsed": false
   },
   "outputs": [
    {
     "data": {
      "text/plain": [
       "[2, 5, 4]"
      ]
     },
     "execution_count": 5,
     "metadata": {},
     "output_type": "execute_result"
    }
   ],
   "source": [
    "matrix_vector_multiply(A, [2, 5, 4])"
   ]
  },
  {
   "cell_type": "code",
   "execution_count": 6,
   "metadata": {
    "collapsed": false
   },
   "outputs": [
    {
     "data": {
      "text/plain": [
       "[14, 32, 50]"
      ]
     },
     "execution_count": 6,
     "metadata": {},
     "output_type": "execute_result"
    }
   ],
   "source": [
    "matrix_vector_multiply(B, [1, 2, 3])"
   ]
  },
  {
   "cell_type": "code",
   "execution_count": 7,
   "metadata": {
    "collapsed": false
   },
   "outputs": [
    {
     "data": {
      "text/plain": [
       "[11, 10, 11]"
      ]
     },
     "execution_count": 7,
     "metadata": {},
     "output_type": "execute_result"
    }
   ],
   "source": [
    "matrix_vector_multiply(C, [3, 4])"
   ]
  },
  {
   "cell_type": "code",
   "execution_count": 13,
   "metadata": {
    "collapsed": true
   },
   "outputs": [],
   "source": [
    "def matrix_matrix_multiply(matrix1, matrix2):\n",
    "    final_matrix = []\n",
    "    for x in range(len(matrix2)):\n",
    "        mtx2_to_vec = matrix_col(matrix2, x)\n",
    "        new_row = []\n",
    "        for x in range(len(matrix1)):\n",
    "            hopeful_row_num = matrix_vector_multiply(matrix1, mtx2_to_vec)\n",
    "            new_row.append(hopeful_row_num)\n",
    "        final_matrix.append(new_row)\n",
    "    return final_matrix"
   ]
  },
  {
   "cell_type": "code",
   "execution_count": 14,
   "metadata": {
    "collapsed": false
   },
   "outputs": [
    {
     "ename": "IndexError",
     "evalue": "list index out of range",
     "output_type": "error",
     "traceback": [
      "\u001b[0;31m---------------------------------------------------------------------------\u001b[0m",
      "\u001b[0;31mIndexError\u001b[0m                                Traceback (most recent call last)",
      "\u001b[0;32m<ipython-input-14-c89bd18459ce>\u001b[0m in \u001b[0;36m<module>\u001b[0;34m()\u001b[0m\n\u001b[0;32m----> 1\u001b[0;31m \u001b[0mmatrix_matrix_multiply\u001b[0m\u001b[0;34m(\u001b[0m\u001b[0mB\u001b[0m\u001b[0;34m,\u001b[0m \u001b[0mC\u001b[0m\u001b[0;34m)\u001b[0m\u001b[0;34m\u001b[0m\u001b[0m\n\u001b[0m",
      "\u001b[0;32m<ipython-input-13-c56fc076fa49>\u001b[0m in \u001b[0;36mmatrix_matrix_multiply\u001b[0;34m(matrix1, matrix2)\u001b[0m\n\u001b[1;32m      2\u001b[0m     \u001b[0mfinal_matrix\u001b[0m \u001b[0;34m=\u001b[0m \u001b[0;34m[\u001b[0m\u001b[0;34m]\u001b[0m\u001b[0;34m\u001b[0m\u001b[0m\n\u001b[1;32m      3\u001b[0m     \u001b[0;32mfor\u001b[0m \u001b[0mx\u001b[0m \u001b[0;32min\u001b[0m \u001b[0mrange\u001b[0m\u001b[0;34m(\u001b[0m\u001b[0mlen\u001b[0m\u001b[0;34m(\u001b[0m\u001b[0mmatrix2\u001b[0m\u001b[0;34m)\u001b[0m\u001b[0;34m)\u001b[0m\u001b[0;34m:\u001b[0m\u001b[0;34m\u001b[0m\u001b[0m\n\u001b[0;32m----> 4\u001b[0;31m         \u001b[0mmtx2_to_vec\u001b[0m \u001b[0;34m=\u001b[0m \u001b[0mmatrix_col\u001b[0m\u001b[0;34m(\u001b[0m\u001b[0mmatrix2\u001b[0m\u001b[0;34m,\u001b[0m \u001b[0mx\u001b[0m\u001b[0;34m)\u001b[0m\u001b[0;34m\u001b[0m\u001b[0m\n\u001b[0m\u001b[1;32m      5\u001b[0m         \u001b[0mnew_row\u001b[0m \u001b[0;34m=\u001b[0m \u001b[0;34m[\u001b[0m\u001b[0;34m]\u001b[0m\u001b[0;34m\u001b[0m\u001b[0m\n\u001b[1;32m      6\u001b[0m         \u001b[0;32mfor\u001b[0m \u001b[0mx\u001b[0m \u001b[0;32min\u001b[0m \u001b[0mrange\u001b[0m\u001b[0;34m(\u001b[0m\u001b[0mlen\u001b[0m\u001b[0;34m(\u001b[0m\u001b[0mmatrix1\u001b[0m\u001b[0;34m)\u001b[0m\u001b[0;34m)\u001b[0m\u001b[0;34m:\u001b[0m\u001b[0;34m\u001b[0m\u001b[0m\n",
      "\u001b[0;32m<ipython-input-1-a9daf7fbdf6a>\u001b[0m in \u001b[0;36mmatrix_col\u001b[0;34m(matrix, idx)\u001b[0m\n\u001b[1;32m    101\u001b[0m \u001b[0;34m\u001b[0m\u001b[0m\n\u001b[1;32m    102\u001b[0m \u001b[0;32mdef\u001b[0m \u001b[0mmatrix_col\u001b[0m\u001b[0;34m(\u001b[0m\u001b[0mmatrix\u001b[0m\u001b[0;34m,\u001b[0m \u001b[0midx\u001b[0m\u001b[0;34m)\u001b[0m\u001b[0;34m:\u001b[0m\u001b[0;34m\u001b[0m\u001b[0m\n\u001b[0;32m--> 103\u001b[0;31m     \u001b[0mcol\u001b[0m \u001b[0;34m=\u001b[0m \u001b[0;34m[\u001b[0m\u001b[0mrow\u001b[0m\u001b[0;34m[\u001b[0m\u001b[0midx\u001b[0m\u001b[0;34m]\u001b[0m \u001b[0;32mfor\u001b[0m \u001b[0mrow\u001b[0m \u001b[0;32min\u001b[0m \u001b[0mmatrix\u001b[0m\u001b[0;34m]\u001b[0m\u001b[0;34m\u001b[0m\u001b[0m\n\u001b[0m\u001b[1;32m    104\u001b[0m     \u001b[0;32mreturn\u001b[0m \u001b[0mcol\u001b[0m\u001b[0;34m\u001b[0m\u001b[0m\n\u001b[1;32m    105\u001b[0m     \u001b[0;32mpass\u001b[0m\u001b[0;34m\u001b[0m\u001b[0m\n",
      "\u001b[0;32m<ipython-input-1-a9daf7fbdf6a>\u001b[0m in \u001b[0;36m<listcomp>\u001b[0;34m(.0)\u001b[0m\n\u001b[1;32m    101\u001b[0m \u001b[0;34m\u001b[0m\u001b[0m\n\u001b[1;32m    102\u001b[0m \u001b[0;32mdef\u001b[0m \u001b[0mmatrix_col\u001b[0m\u001b[0;34m(\u001b[0m\u001b[0mmatrix\u001b[0m\u001b[0;34m,\u001b[0m \u001b[0midx\u001b[0m\u001b[0;34m)\u001b[0m\u001b[0;34m:\u001b[0m\u001b[0;34m\u001b[0m\u001b[0m\n\u001b[0;32m--> 103\u001b[0;31m     \u001b[0mcol\u001b[0m \u001b[0;34m=\u001b[0m \u001b[0;34m[\u001b[0m\u001b[0mrow\u001b[0m\u001b[0;34m[\u001b[0m\u001b[0midx\u001b[0m\u001b[0;34m]\u001b[0m \u001b[0;32mfor\u001b[0m \u001b[0mrow\u001b[0m \u001b[0;32min\u001b[0m \u001b[0mmatrix\u001b[0m\u001b[0;34m]\u001b[0m\u001b[0;34m\u001b[0m\u001b[0m\n\u001b[0m\u001b[1;32m    104\u001b[0m     \u001b[0;32mreturn\u001b[0m \u001b[0mcol\u001b[0m\u001b[0;34m\u001b[0m\u001b[0m\n\u001b[1;32m    105\u001b[0m     \u001b[0;32mpass\u001b[0m\u001b[0;34m\u001b[0m\u001b[0m\n",
      "\u001b[0;31mIndexError\u001b[0m: list index out of range"
     ]
    }
   ],
   "source": [
    "matrix_matrix_multiply(B, C)"
   ]
  },
  {
   "cell_type": "markdown",
   "metadata": {},
   "source": []
  }
 ],
 "metadata": {
  "kernelspec": {
   "display_name": "Python 3",
   "language": "python",
   "name": "python3"
  },
  "language_info": {
   "codemirror_mode": {
    "name": "ipython",
    "version": 3
   },
   "file_extension": ".py",
   "mimetype": "text/x-python",
   "name": "python",
   "nbconvert_exporter": "python",
   "pygments_lexer": "ipython3",
   "version": "3.5.0"
  }
 },
 "nbformat": 4,
 "nbformat_minor": 0
}
